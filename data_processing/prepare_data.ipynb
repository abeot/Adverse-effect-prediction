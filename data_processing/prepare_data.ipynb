{
 "cells": [
  {
   "cell_type": "markdown",
   "metadata": {},
   "source": [
    "## Process the drug SMILES info\n",
    "We only want the drugs for which we have frequency information (refer to [this paper](https://www.nature.com/articles/s41467-020-18305-y)). CID is given, and it's easy to get SMILES from that.\n"
   ]
  },
  {
   "cell_type": "code",
   "execution_count": 7,
   "metadata": {},
   "outputs": [
    {
     "name": "stdout",
     "output_type": "stream",
     "text": [
      "{'alfentanil': 51263, 'telithromycin': 3002190, 'simeprevir': 24873435, 'pentamidine.isethionate': 4735, 'penicillamine': 5852, 'lamivudine': 60825, 'atorvastatin': 60822, 'retigabine': 121892, 'levetiracetam': 5284583, 'azelaic.acid': 2266, 'azelastine': 2267, 'azathioprine': 2265, 'bromazepam': 2441, 'aminophylline': 9433, 'medroxyprogesterone': 10631, 'sodium.oxybate': 10413, 'tipranavir': 163296, 'prucalopride': 3052762, 'tiagabine': 60648, 'guanfacine': 3519, 'sevelamer': 3085017, 'sufentanil': 41693, 'cisatracurium': 62886, 'cefixime': 6321411, 'terconazole': 441383, 'rifabutin': 6323490, 'octreotide': 54373, 'fexofenadine': 3348, 'thiotepa': 5453, 'rasburicase': 474409, 'fentanyl': 3345, 'lubiprostone': 157920, 'methyl.aminolevulinate': 157921, 'trazodone': 5533, 'decitabine': 451668, 'dronedarone': 208898, 'benzoyl.peroxide': 7187, 'dasatinib': 3062316, 'insulin.glargine': 44146714, 'delavirdine': 5625, 'tadalafil': 110635, 'vardenafil': 110634, 'moexipril': 55331, 'chlormethine': 4033, 'rilpivirine': 6451164, 'terbinafine': 1549007, 'melphalan': 460612, 'penciclovir': 4725, 'clobetasol': 32797, 'lercanidipine': 65866, 'irinotecan': 60837, 'duloxetine': 60834, 'tiotropium.bromide': 60830, 'vernakalant': 9930048, 'irbesartan': 3749, 'ipratropium.bromide': 3746, 'afatinib': 10184653, 'betaine': 247, 'nalmefene': 5284594, 'nateglinide': 5311309, 'doxycycline': 54671203, 'eptifibatide': 448812, 'ertapenem': 150610, 'iloprost': 6435378, 'pindolol': 4828, 'pioglitazone': 4829, 'ifosfamide': 3690, 'everolimus': 6442177, 'imipramine': 3696, 'tolvaptan': 216237, 'elvitegravir': 5277135, 'ribavirin': 37542, 'darifenacin': 444030, 'beclometasone': 20469, 'gadoversetamide': 444013, 'exenatide': 16157882, 'dolutegravir': 46216142, 'etravirine': 193962, 'rifaximin': 6436173, 'cetirizine': 1548999, 'flecainide': 3355, 'nitazoxanide': 41684, 'cabergoline': 54746, 'almotriptan': 123606, 'armodafinil': 9690109, 'agomelatine': 82148, 'levobupivacaine': 92253, 'toremifene': 3005572, 'famciclovir': 3324, 'entacapone': 5281081, 'vorapaxar': 10077129, 'ketorolac': 3826, 'repaglinide': 65981, 'saquinavir': 60934, 'phenytoin': 1775, 'reboxetine': 65856, 'porfimer.sodium': 3086257, 'solifenacin': 154058, 'oxybutynin': 4634, 'amiloride': 16230, 'acetylcysteine': 12035, 'moxifloxacin': 101526, 'telaprevir': 3010818, 'aripiprazole': 60795, 'iodine.ioflupane.(123I)': 3086674, 'tolcapone': 4659569, 'chlortalidone': 2732, 'imatinib': 5291, 'trandolapril': 5484727, 'erythropoietin': 5288169, 'arsenic.trioxide': 14888, 'sparfloxacin': 60464, 'avanafil': 9869929, 'bosentan': 104865, 'eliglustat': 23652731, 'oritavancin': 16136912, 'acebutolol': 1978, 'pomalidomide': 134780, 'torasemide': 41781, 'teriflunomide': 54684141, 'cladribine': 20279, 'corticotropin': 16132265, 'tinidazole': 5479, 'tacrolimus': 445643, 'colesevelam': 160051, 'dicloxacillin': 18381, 'diclofenac': 3032, 'oxcarbazepine': 34312, 'ruxolitinib': 25126797, 'nicorandil': 47528, 'alprostadil': 6433212, 'sofosbuvir': 45375808, 'aprepitant': 151165, 'mirabegron': 9865528, 'colestyramine': 70695640, 'bromocriptine': 31100, 'milnacipran': 55480, 'ritonavir': 392622, 'enalapril': 5388961, 'lorcaserin': 11658859, 'telmisartan': 65999, 'ofatumumab': 6918250, 'regorafenib': 11167602, 'eribulin': 53320414, 'colchicine': 6167, 'remifentanil': 60814, 'miglustat': 51634, 'pentoxifylline': 4740, 'colestilan': 65840, 'efavirenz': 64139, 'gliclazide': 3475, 'anagrelide': 2182, 'anastrozole': 2187, 'oxaliplatin': 4609, 'apraclonidine': 2216, 'nelarabine': 3011155, 'amphotericin.B': 5280965, 'fulvestrant': 104741, 'brimonidine': 2435, 'ivacaftor': 16220172, 'glyceryl.trinitrate': 4510, 'carfilzomib': 11556711, 'canagliflozin': 24812758, 'isradipine': 3784, 'gadobenic.acid': 6918204, 'hydroxyprogesterone': 6238, 'pyridostigmine': 4991, 'quazepam': 4999, 'indometacin': 3715, 'liraglutide': 16134956, 'apixaban': 10182969, 'lanreotide': 71348, 'voriconazole': 71616, 'felbamate': 3331, 'clomifene': 1548954, 'tiaprofenic.acid': 5468, 'fenofibrate': 3339, 'alosetron': 2099, 'desirudin': 16129703, 'histrelin': 25077993, 'calcium.folinate': 6006, 'naftifine': 47641, 'midodrine': 4195, 'midazolam': 4192, 'didanosine': 50599, 'conivaptan': 151171, 'enfuvirtide': 16130199, 'lisdexamfetamine': 11597697, 'butorphanol': 5361092, 'romidepsin': 5352062, 'nadolol': 39147, 'florbetapir.(18F)': 24822371, 'flunisolide': 82153, 'daunorubicin': 30323, 'fosamprenavir': 131535, 'sodium.phenylbutyrate': 4775, 'metolazone': 4170, 'metoprolol': 4171, 'metronidazole': 4173, 'gemifloxacin': 9571107, 'mexiletine': 4178, 'perampanel': 9924495, 'insulin.aspart': 16132418, 'linagliptin': 10096344, 'glatiramer.acetate': 3081884, 'dalteparin': 25244225, 'dexmethylphenidate': 154100, 'raltitrexed': 104758, 'tesamorelin': 44201342, 'pimozide': 16362, 'alendronic.acid': 2088, 'albendazole': 2082, 'salbutamol': 2083, 'latanoprost': 5311221, 'glycerol.phenylbutyrate': 10482134, 'sunitinib': 5329102, 'asenapine': 163091, 'rizatriptan': 5078, 'risperidone': 5073, 'riluzole': 5070, 'rimantadine': 5071, 'bisoprolol': 2405, 'theophylline': 2153, 'amisulpride': 2159, 'tazarotene': 5381, 'ustekinumab': 121749, 'pravastatin': 54687, 'ceftazidime': 5481173, 'acamprosate': 71158, 'capsaicin': 1548943, 'pazopanib': 10113978, 'sotalol': 5253, 'cevimeline': 83898, 'danazol': 28417, 'mannitol': 6251, 'diazepam': 3016, 'tobramycin': 36294, 'tenofovir.disoproxil': 5481350, 'gefitinib': 123631, 'pergolide': 47811, 'sodium.phosphate': 1003, 'miconazole': 4189, 'mianserin': 4184, 'vigabatrin': 5665, 'mupirocin': 446596, 'cromoglicic.acid': 2881, 'lapatinib': 208908, 'ramelteon': 208902, 'lamotrigine': 3878, 'zaleplon': 5719, 'zafirlukast': 5717, 'cefaclor': 51038, 'nilotinib': 644241, 'palonosetron': 6337614, 'letrozole': 3902, 'adefovir.dipivoxil': 60871, 'emtricitabine': 60877, 'bezafibrate': 39042, 'droxidopa': 92974, 'pramipexole': 119569, 'caffeine': 2519, 'triptorelin': 25074470, 'glycopyrronium.bromide': 3494, 'allopurinol': 2094, 'alfuzosin': 2092, 'hydroxycarbamide': 3657, 'vincristine': 6324671, 'verapamil': 2520, 'nilutamide': 4493, 'pimecrolimus': 6509979, 'chlorambucil': 2708, 'fluvoxamine': 5324345, 'streptomycin': 6419957, 'topotecan': 60699, 'nabumetone': 4409, 'clarithromycin': 84029, 'dolasetron': 14476155, 'cytarabine': 6252, 'sodium.bicarbonate': 923, 'dihydroergotamine': 10531, 'temazepam': 5391, 'lovastatin': 53232, 'temozolomide': 5394, 'bexarotene': 82146, 'fondaparinux': 636380, 'glimepiride': 3476, 'iloperidone': 71360, 'glipizide': 3478, 'ceftobiprole.medocaril': 12993649, 'lepirudin': 16132441, 'lodoxamide': 44563, 'tizanidine': 5487, 'lacosamide': 219078, 'risedronic.acid': 5245, 'fampridine': 1727, 'tapentadol': 9838021, 'indacaterol': 6918554, 'fesoterodine': 6918558, 'pentosan.polysulfate.sodium': 37720, 'interferon.alfa-2b': 71306834, 'eflornithine': 3009, 'insulin.detemir': 16137271, 'olodaterol': 11504294, 'sulfasalazine': 5359476, 'venlafaxine': 5656, 'cyclobenzaprine': 2895, 'montelukast': 5281040, 'cobicistat': 25151504, 'travoprost': 5282226, 'labetalol': 3869, 'orciprenaline': 4086, 'iotrolan': 3738, 'methotrexate': 126941, 'rotigotine': 59226, 'nicotine': 89594, 'mifamurtide': 11672602, 'sitagliptin': 4369359, 'progesterone': 5994, 'valsartan': 60846, 'methylphenidate': 4158, 'pemetrexed': 60843, 'docetaxel': 64780, 'cilazapril': 56329, 'desloratadine': 124087, 'iopamidol': 65492, 'insulin.lispro': 16132438, 'posaconazole': 468595, 'perindopril': 107807, 'paroxetine': 43815, 'pilocarpine': 5909, 'rescinnamine': 5280954, 'carbamazepine': 2554, 'nelfinavir': 64142, 'valganciclovir': 64147, 'exemestane': 60198, 'prazosin': 4893, 'citalopram': 2771, 'macitentan': 16004692, 'lamivudine.and.abacavir': 5273759, 'amsacrine': 2179, 'micafungin': 6602291, 'estazolam': 3261, 'ambrisentan': 6918493, 'gemfibrozil': 3463, 'levosimendan': 3033825, 'halofantrine': 37392, 'esmolol': 59768, 'vinorelbine': 60779, 'apremilast': 11561674, 'dapsone': 2955, 'tigecycline': 54686904, 'azithromycin': 447043, 'dipyridamole': 3108, 'brinzolamide': 68844, 'cinacalcet': 156418, 'goserelin': 47725, 'metformin': 4091, 'zonisamide': 5734, 'idarubicin': 42890, 'zolpidem': 5732, 'mifepristone': 55245, 'cerivastatin': 446156, 'rosuvastatin': 446157, 'fluvastatin': 446155, 'valdecoxib': 119607, 'fosfomycin': 73491, 'ibandronic.acid': 60852, 'ziprasidone': 60853, 'zanamivir': 60855, 'zolmitriptan': 60857, 'oseltamivir': 65028, 'entecavir': 153941, 'cyproterone': 5284537, 'doripenem': 73303, 'aztreonam': 5742832, 'ibuprofen': 3672, 'lidocaine': 3676, 'candesartan': 2541, 'topiramate': 5284627, 'fosphenytoin': 56338, 'quetiapine': 5002, 'ciprofloxacin': 2764, 'umeclidinium.bromide': 11519069, 'ceftriaxone': 5479530, 'cefepime': 5479537, 'zoledronic.acid': 68740, 'amlexanox': 2161, 'amlodipine': 2162, 'nebivolol': 71301, 'ganciclovir': 3454, 'ciclesonide': 6918155, 'fidaxomicin': 10034073, 'silodosin': 5312125, 'vancomycin': 14969, 'vildagliptin': 6918537, 'cabozantinib': 25102847, 'olmesartan.medoxomil': 158781, 'escitalopram': 146570, 'ziconotide': 16129690, 'saccharated.iron.oxide': 6850789, 'radium.(223Ra).dichloride': 6328144, 'buserelin': 50224, 'lasofoxifene': 216416, 'sumatriptan': 5358, 'etonogestrel': 6917715, 'bicalutamide': 2375, 'eslicarbazepine': 9881504, 'suvorexant': 24965990, 'diltiazem': 39186, 'dexamethasone': 5743, 'trimetrexate': 5582, 'isotretinoin': 5282379, 'lurasidone': 213046, 'axitinib': 6450551, 'estramustine': 259331, 'teduglutide': 70683012, 'desonide': 12536, 'argatroban': 92721, 'flutemetamol.(18F)': 15950376, 'naphazoline': 4436, 'amprenavir': 65016, 'plerixafor': 65014, 'ezetimibe': 150311, 'caspofungin': 2826718, 'ecallantide': 44201343, 'vemurafenib': 42611257, 'glutamine': 5961, 'hyoscyamine': 3661, 'baclofen': 2284, 'sirolimus': 5284616, 'norfloxacin': 4539, 'carmustine': 2578, 'dexmedetomidine': 5311068, 'desmopressin': 5311065, 'raloxifene': 5035, 'propranolol': 4946, 'alprazolam': 2118, 'fotemustine': 104799, 'febuxostat': 134018, 'teniposide': 452548, 'penbutolol': 37464, 'belinostat': 6918638, 'gadoteridol': 60714, 'treprostinil': 6918140, 'gabapentin': 3446, 'furosemide': 3440, 'cimetidine': 2756, 'cilostazol': 2754, 'finasteride': 57363, 'aciclovir': 2022, 'amoxicillin': 33613, 'sildenafil': 5212, 'regadenoson': 219024, 'levonorgestrel': 13109, 'daptomycin': 16129688, 'heparin': 772, 'ropivacaine': 175804, 'teriparatide': 16129682, 'deferoxamine': 2973, 'paricalcitol': 5281104, 'prasugrel': 6918456, 'auranofin': 6918453, 'rosiglitazone': 77998, 'bosutinib': 5328940, 'muromonab-CD3': 83030, 'rivastigmine': 77990, 'eletriptan': 77993, 'frovatriptan': 77992, 'olopatadine': 5281071, 'fluticasone.furoate': 9854489, 'eltrombopag': 25181561, 'estrone': 3001028, 'valproic.acid': 3121, 'bedaquiline': 5388906, 'bivalirudin': 16129704, 'estradiol': 5757, 'hydrocortisone': 5754, 'modafinil': 4236, 'trospium': 5596, 'lomefloxacin': 3948, 'ceftaroline.fosamil': 9852981, 'crizotinib': 11626560, 'atracurium': 47319, 'acitretin': 5284513, 'memantine': 4054, 'meloxicam': 4051, 'dacarbazine': 5353562, 'tegaserod': 5487301, 'ospemifene': 3036505, 'oxycodone': 5284603, 'dapagliflozin': 9887712, 'levocarnitine': 10917, 'betaxolol': 2369, 'betahistine': 2366, 'rabeprazole': 5029, 'carvedilol': 2585, 'nabilone': 39860, 'naratriptan': 4440, 'iodixanol': 3724, 'nefazodone': 4449, 'tamoxifen': 2733525, 'sulfamethoxazole.and.trimethoprim': 358641, 'propafenone': 4932, 'pasireotide': 70788982, 'bleomycin': 5360373, 'trimethoprim': 5578, 'mercaptamine': 6058, 'desvenlafaxine': 125017, 'urofollitropin': 62819, 'flucloxacillin': 21319, 'dofetilide': 71329, 'meropenem': 60706, 'fluticasone': 5311101, 'omeprazole': 4594, 'ondansetron': 4595, 'ciclopirox': 2749, 'pirbuterol': 4845, 'timolol': 33624, 'lanthanum.carbonate': 168924, 'nafarelin': 25077649, 'temsirolimus': 6918289, 'pegvisomant': 16129672, 'nesiritide': 25081014, 'dicycloverine': 3042, 'atazanavir': 148192, 'gatifloxacin': 5379, 'sapropterin': 44257, 'mycophenolic.acid': 446541, 'cefprozil': 5281006, 'budesonide': 5281004, 'verteporfin': 5362420, 'misoprostol': 5282381, 'piroxicam': 23690938, 'ursodeoxycholic.acid': 31401, 'quinidine': 5768, 'mirtazapine': 4205, 'isosorbide.mononitrate': 27661, 'lorazepam': 3958, 'loratadine': 3957, 'atovaquone': 74989, 'albumin': 6432, 'calcitriol': 5280453, 'digoxin': 2724385, 'esomeprazole': 9579578, 'dexlansoprazole': 9578005, 'sodium.aurothiomalate': 22318, 'olsalazine': 5462337, 'granisetron': 5284566, 'hydrocodone': 5284569, 'carboplatin': 38904, 'samarium.(153Sm).lexidronam': 23951, 'eszopiclone': 969472, 'technetium.(99mTc).exametazime': 23957, 'doxercalciferol': 5281107, 'capecitabine': 60953, 'leuprorelin': 657180, 'salmeterol.and.fluticasone': 56841124, 'fosinopril': 55891, 'bepridil': 2351, 'tedizolid': 11234049, 'pregabalin': 5486971, 'iopromide': 3736, 'iohexol': 3730, 'amantadine': 2130, 'romiplostim': 5329098, 'vismodegib': 24776445, 'fluorescein': 16850, 'valaciclovir': 60772, 'tolterodine': 60774, 'trovafloxacin': 62959, 'olanzapine': 4585, 'ofloxacin': 4583, 'aliskiren': 5493444, 'clopidogrel': 60606, 'haloperidol': 3559, 'tramadol': 33741, 'metyrapone': 4174, 'secretin': 16129665, 'pinaverium': 40703, 'streptozocin': 29327, 'mesna': 598, 'tropisetron': 72165, 'ramipril': 5362129, 'benazepril': 5362123, 'fluoxetine': 3386, 'fluorouracil': 3385, 'flunitrazepam': 3380, 'mitoxantrone': 4212, 'bupropion': 444, 'oxytocin': 5771, 'phentolamine': 5775, 'tofacitinib': 9926791, 'selegiline': 26757, 'ponatinib': 24826799, 'darunavir': 213039, 'triamcinolone': 31307, 'zidovudine': 35370, 'fingolimod': 107969, 'mipomersen': 44564107, 'leflunomide': 3899, 'riociguat': 11304743, 'varenicline': 170361, 'hydromorphone': 5284570, 'ibrutinib': 24821094, 'paclitaxel': 5352019, 'mesalazine': 4075, 'loxapine': 3964, 'losartan': 3961, 'tirofiban': 60946, 'hydrochlorothiazide': 3639, 'hydralazine': 3637, 'naltrexone': 5360515, 'ivermectin': 6435110, 'azacitidine': 9444, 'epirubicin': 41867, 'indapamide': 3702, 'nevirapine': 4463, 'pentostatin': 439693, 'simvastatin': 54454, 'foscarnet': 3414, 'aminolevulinic.acid': 137, 'ranolazine': 56959, 'famotidine': 5702160, 'empagliflozin': 11949646, 'nifedipine': 4485, 'desflurane': 42113, 'vandetanib': 3081361, 'cyclophosphamide': 2907, 'ganirelix': 16130965, 'deferasirox': 5493381, 'nizatidine': 3033637, 'abiraterone': 132971, 'vortioxetine': 9966051, 'indinavir': 5362440, 'lisinopril': 5362118, 'donepezil': 3152, 'doxazosin': 3157, 'doxepin': 3158, 'degarelix': 16136245, 'terbutaline': 5403, 'terazosin': 5401, 'clindamycin': 29029, 'vilazodone': 6918313, 'dalbavancin': 44567678, 'linezolid': 441401, 'paliperidone': 115237, 'adapalene': 60164, 'dantrolene': 6604100, 'sitaxentan': 216235, 'sorafenib': 216239, 'abarelix': 16131215, 'telbivudine': 159269, 'lansoprazole': 3883, 'dabigatran.etexilate': 9578572, 'dihydrocodeine': 5284543, 'boceprevir': 10324367, 'bimatoprost': 5311027, 'fludarabine': 657237, 'dextromethorphan': 5360696, 'clevidipine': 153994, 'eplerenone': 443872, 'bazedoxifene': 154256, 'maraviroc': 3002977, 'apomorphine': 6005, 'piperacillin': 43672, 'pantoprazole': 4679, 'pamidronic.acid': 4673, 'atenolol': 2249, 'enzalutamide': 15951529, 'doxorubicin': 31703, 'ingenol.mebutate': 6918670, 'ibutilide': 60752, 'temoporfin': 60751, 'sertraline': 63009, 'etoposide': 36462, 'ticagrelor': 9871419, 'atomoxetine': 54840, 'mometasone': 441335, 'dabrafenib': 44462760, 'galantamine': 9651, 'rofecoxib': 5090, 'ropinirole': 5095, 'nimodipine': 4497, 'celecoxib': 2662, 'nisoldipine': 4499, 'levofloxacin': 149096, 'fusidic.acid': 3000226, 'raltegravir': 23668479, 'clonazepam': 2802, 'clonidine': 2803, 'clomipramine': 2801, 'eprosartan': 5281037, 'fluconazole': 3365, 'amiodarone': 2156, 'nitisinone': 115355, 'technetium.(99mTc).tetrofosmin': 4274, 'triazolam': 5556, 'rivaroxaban': 9875401, 'balsalazide': 5362070, 'trabectedin': 108150, 'tamsulosin': 129211, 'methylnaltrexone.bromide': 5361917, 'epoprostenol': 5282411, 'ixabepilone': 6445540, 'megestrol': 19090, 'flutamide': 3397, 'anidulafungin': 166548, 'itraconazole': 55283, 'adenosine': 60961, 'maprotiline': 4011, 'abacavir': 65139, 'roflumilast': 449193, 'ulipristal': 13559281, 'alitretinoin': 449171, 'tretinoin': 444795, 'bendamustine': 65628, 'trametinib': 11707110, 'testosterone': 6013, 'tetrabenazine': 6018, 'buspirone': 2477, 'bupivacaine': 2474, 'bumetanide': 2471, 'imiquimod': 57469, 'salmeterol': 5152, 'busulfan': 2478, 'gemcitabine': 60749, 'formoterol': 3083544, 'levodopa': 441193, 'clobazam': 2789, 'orlistat': 3034010, 'podophyllotoxin': 10607, 'gadobutrol': 9916860, 'quinapril': 54891, 'clobetasone': 71386, 'dexrazoxane': 71384, 'fluocinonide': 9642, 'rasagiline': 3052775, 'bortezomib': 387447, 'gonadorelin': 36523, 'erlotinib': 176870, 'cidofovir': 466146, 'lenalidomide': 216326, 'paracetamol': 1983, 'buprenorphine': 6321408, 'minocycline': 26275995, 'conjugated.estrogens': 168708, 'clozapine': 2818, 'stavudine': 18283, 'tasimelteon': 10220503, 'thalidomide': 5426, 'morphine': 5288826, 'naproxen': 156391, 'clofarabine': 119182, 'tranexamic.acid': 5526, 'rufinamide': 129228, 'tafluprost': 9868491, 'cabazitaxel': 9854073, 'aclidinium.bromide': 11467166, 'ciclosporin': 5280754}\n",
      "['alfentanil', 'telithromycin', 'simeprevir', 'pentamidine.isethionate', 'penicillamine', 'lamivudine', 'atorvastatin', 'retigabine', 'levetiracetam', 'azelaic.acid', 'azelastine', 'azathioprine', 'bromazepam', 'aminophylline', 'medroxyprogesterone', 'sodium.oxybate', 'tipranavir', 'prucalopride', 'tiagabine', 'guanfacine', 'sevelamer', 'sufentanil', 'cisatracurium', 'cefixime', 'terconazole', 'rifabutin', 'octreotide', 'fexofenadine', 'thiotepa', 'rasburicase', 'fentanyl', 'lubiprostone', 'methyl.aminolevulinate', 'trazodone', 'decitabine', 'dronedarone', 'benzoyl.peroxide', 'dasatinib', 'insulin.glargine', 'delavirdine', 'tadalafil', 'vardenafil', 'moexipril', 'chlormethine', 'rilpivirine', 'terbinafine', 'melphalan', 'penciclovir', 'clobetasol', 'lercanidipine', 'irinotecan', 'duloxetine', 'tiotropium.bromide', 'vernakalant', 'irbesartan', 'ipratropium.bromide', 'afatinib', 'betaine', 'nalmefene', 'nateglinide', 'doxycycline', 'eptifibatide', 'ertapenem', 'iloprost', 'pindolol', 'pioglitazone', 'ifosfamide', 'everolimus', 'imipramine', 'tolvaptan', 'elvitegravir', 'ribavirin', 'darifenacin', 'beclometasone', 'gadoversetamide', 'exenatide', 'dolutegravir', 'etravirine', 'rifaximin', 'cetirizine', 'flecainide', 'nitazoxanide', 'cabergoline', 'almotriptan', 'armodafinil', 'agomelatine', 'levobupivacaine', 'toremifene', 'famciclovir', 'entacapone', 'vorapaxar', 'ketorolac', 'repaglinide', 'saquinavir', 'phenytoin', 'reboxetine', 'porfimer.sodium', 'solifenacin', 'oxybutynin', 'amiloride', 'acetylcysteine', 'moxifloxacin', 'telaprevir', 'aripiprazole', 'iodine.ioflupane.(123I)', 'tolcapone', 'chlortalidone', 'imatinib', 'trandolapril', 'erythropoietin', 'arsenic.trioxide', 'sparfloxacin', 'avanafil', 'bosentan', 'eliglustat', 'oritavancin', 'acebutolol', 'pomalidomide', 'torasemide', 'teriflunomide', 'cladribine', 'corticotropin', 'tinidazole', 'tacrolimus', 'colesevelam', 'dicloxacillin', 'diclofenac', 'oxcarbazepine', 'ruxolitinib', 'nicorandil', 'alprostadil', 'sofosbuvir', 'aprepitant', 'mirabegron', 'colestyramine', 'bromocriptine', 'milnacipran', 'ritonavir', 'enalapril', 'lorcaserin', 'telmisartan', 'ofatumumab', 'regorafenib', 'eribulin', 'colchicine', 'remifentanil', 'miglustat', 'pentoxifylline', 'colestilan', 'efavirenz', 'gliclazide', 'anagrelide', 'anastrozole', 'oxaliplatin', 'apraclonidine', 'nelarabine', 'amphotericin.B', 'fulvestrant', 'brimonidine', 'ivacaftor', 'glyceryl.trinitrate', 'carfilzomib', 'canagliflozin', 'isradipine', 'gadobenic.acid', 'hydroxyprogesterone', 'pyridostigmine', 'quazepam', 'indometacin', 'liraglutide', 'apixaban', 'lanreotide', 'voriconazole', 'felbamate', 'clomifene', 'tiaprofenic.acid', 'fenofibrate', 'alosetron', 'desirudin', 'histrelin', 'calcium.folinate', 'naftifine', 'midodrine', 'midazolam', 'didanosine', 'conivaptan', 'enfuvirtide', 'lisdexamfetamine', 'butorphanol', 'romidepsin', 'nadolol', 'florbetapir.(18F)', 'flunisolide', 'daunorubicin', 'fosamprenavir', 'sodium.phenylbutyrate', 'metolazone', 'metoprolol', 'metronidazole', 'gemifloxacin', 'mexiletine', 'perampanel', 'insulin.aspart', 'linagliptin', 'glatiramer.acetate', 'dalteparin', 'dexmethylphenidate', 'raltitrexed', 'tesamorelin', 'pimozide', 'alendronic.acid', 'albendazole', 'salbutamol', 'latanoprost', 'glycerol.phenylbutyrate', 'sunitinib', 'asenapine', 'rizatriptan', 'risperidone', 'riluzole', 'rimantadine', 'bisoprolol', 'theophylline', 'amisulpride', 'tazarotene', 'ustekinumab', 'pravastatin', 'ceftazidime', 'acamprosate', 'capsaicin', 'pazopanib', 'sotalol', 'cevimeline', 'danazol', 'mannitol', 'diazepam', 'tobramycin', 'tenofovir.disoproxil', 'gefitinib', 'pergolide', 'sodium.phosphate', 'miconazole', 'mianserin', 'vigabatrin', 'mupirocin', 'cromoglicic.acid', 'lapatinib', 'ramelteon', 'lamotrigine', 'zaleplon', 'zafirlukast', 'cefaclor', 'nilotinib', 'palonosetron', 'letrozole', 'adefovir.dipivoxil', 'emtricitabine', 'bezafibrate', 'droxidopa', 'pramipexole', 'caffeine', 'triptorelin', 'glycopyrronium.bromide', 'allopurinol', 'alfuzosin', 'hydroxycarbamide', 'vincristine', 'verapamil', 'nilutamide', 'pimecrolimus', 'chlorambucil', 'fluvoxamine', 'streptomycin', 'topotecan', 'nabumetone', 'clarithromycin', 'dolasetron', 'cytarabine', 'sodium.bicarbonate', 'dihydroergotamine', 'temazepam', 'lovastatin', 'temozolomide', 'bexarotene', 'fondaparinux', 'glimepiride', 'iloperidone', 'glipizide', 'ceftobiprole.medocaril', 'lepirudin', 'lodoxamide', 'tizanidine', 'lacosamide', 'risedronic.acid', 'fampridine', 'tapentadol', 'indacaterol', 'fesoterodine', 'pentosan.polysulfate.sodium', 'interferon.alfa-2b', 'eflornithine', 'insulin.detemir', 'olodaterol', 'sulfasalazine', 'venlafaxine', 'cyclobenzaprine', 'montelukast', 'cobicistat', 'travoprost', 'labetalol', 'orciprenaline', 'iotrolan', 'methotrexate', 'rotigotine', 'nicotine', 'mifamurtide', 'sitagliptin', 'progesterone', 'valsartan', 'methylphenidate', 'pemetrexed', 'docetaxel', 'cilazapril', 'desloratadine', 'iopamidol', 'insulin.lispro', 'posaconazole', 'perindopril', 'paroxetine', 'pilocarpine', 'rescinnamine', 'carbamazepine', 'nelfinavir', 'valganciclovir', 'exemestane', 'prazosin', 'citalopram', 'macitentan', 'lamivudine.and.abacavir', 'amsacrine', 'micafungin', 'estazolam', 'ambrisentan', 'gemfibrozil', 'levosimendan', 'halofantrine', 'esmolol', 'vinorelbine', 'apremilast', 'dapsone', 'tigecycline', 'azithromycin', 'dipyridamole', 'brinzolamide', 'cinacalcet', 'goserelin', 'metformin', 'zonisamide', 'idarubicin', 'zolpidem', 'mifepristone', 'cerivastatin', 'rosuvastatin', 'fluvastatin', 'valdecoxib', 'fosfomycin', 'ibandronic.acid', 'ziprasidone', 'zanamivir', 'zolmitriptan', 'oseltamivir', 'entecavir', 'cyproterone', 'doripenem', 'aztreonam', 'ibuprofen', 'lidocaine', 'candesartan', 'topiramate', 'fosphenytoin', 'quetiapine', 'ciprofloxacin', 'umeclidinium.bromide', 'ceftriaxone', 'cefepime', 'zoledronic.acid', 'amlexanox', 'amlodipine', 'nebivolol', 'ganciclovir', 'ciclesonide', 'fidaxomicin', 'silodosin', 'vancomycin', 'vildagliptin', 'cabozantinib', 'olmesartan.medoxomil', 'escitalopram', 'ziconotide', 'saccharated.iron.oxide', 'radium.(223Ra).dichloride', 'buserelin', 'lasofoxifene', 'sumatriptan', 'etonogestrel', 'bicalutamide', 'eslicarbazepine', 'suvorexant', 'diltiazem', 'dexamethasone', 'trimetrexate', 'isotretinoin', 'lurasidone', 'axitinib', 'estramustine', 'teduglutide', 'desonide', 'argatroban', 'flutemetamol.(18F)', 'naphazoline', 'amprenavir', 'plerixafor', 'ezetimibe', 'caspofungin', 'ecallantide', 'vemurafenib', 'glutamine', 'hyoscyamine', 'baclofen', 'sirolimus', 'norfloxacin', 'carmustine', 'dexmedetomidine', 'desmopressin', 'raloxifene', 'propranolol', 'alprazolam', 'fotemustine', 'febuxostat', 'teniposide', 'penbutolol', 'belinostat', 'gadoteridol', 'treprostinil', 'gabapentin', 'furosemide', 'cimetidine', 'cilostazol', 'finasteride', 'aciclovir', 'amoxicillin', 'sildenafil', 'regadenoson', 'levonorgestrel', 'daptomycin', 'heparin', 'ropivacaine', 'teriparatide', 'deferoxamine', 'paricalcitol', 'prasugrel', 'auranofin', 'rosiglitazone', 'bosutinib', 'muromonab-CD3', 'rivastigmine', 'eletriptan', 'frovatriptan', 'olopatadine', 'fluticasone.furoate', 'eltrombopag', 'estrone', 'valproic.acid', 'bedaquiline', 'bivalirudin', 'estradiol', 'hydrocortisone', 'modafinil', 'trospium', 'lomefloxacin', 'ceftaroline.fosamil', 'crizotinib', 'atracurium', 'acitretin', 'memantine', 'meloxicam', 'dacarbazine', 'tegaserod', 'ospemifene', 'oxycodone', 'dapagliflozin', 'levocarnitine', 'betaxolol', 'betahistine', 'rabeprazole', 'carvedilol', 'nabilone', 'naratriptan', 'iodixanol', 'nefazodone', 'tamoxifen', 'sulfamethoxazole.and.trimethoprim', 'propafenone', 'pasireotide', 'bleomycin', 'trimethoprim', 'mercaptamine', 'desvenlafaxine', 'urofollitropin', 'flucloxacillin', 'dofetilide', 'meropenem', 'fluticasone', 'omeprazole', 'ondansetron', 'ciclopirox', 'pirbuterol', 'timolol', 'lanthanum.carbonate', 'nafarelin', 'temsirolimus', 'pegvisomant', 'nesiritide', 'dicycloverine', 'atazanavir', 'gatifloxacin', 'sapropterin', 'mycophenolic.acid', 'cefprozil', 'budesonide', 'verteporfin', 'misoprostol', 'piroxicam', 'ursodeoxycholic.acid', 'quinidine', 'mirtazapine', 'isosorbide.mononitrate', 'lorazepam', 'loratadine', 'atovaquone', 'albumin', 'calcitriol', 'digoxin', 'esomeprazole', 'dexlansoprazole', 'sodium.aurothiomalate', 'olsalazine', 'granisetron', 'hydrocodone', 'carboplatin', 'samarium.(153Sm).lexidronam', 'eszopiclone', 'technetium.(99mTc).exametazime', 'doxercalciferol', 'capecitabine', 'leuprorelin', 'salmeterol.and.fluticasone', 'fosinopril', 'bepridil', 'tedizolid', 'pregabalin', 'iopromide', 'iohexol', 'amantadine', 'romiplostim', 'vismodegib', 'fluorescein', 'valaciclovir', 'tolterodine', 'trovafloxacin', 'olanzapine', 'ofloxacin', 'aliskiren', 'clopidogrel', 'haloperidol', 'tramadol', 'metyrapone', 'secretin', 'pinaverium', 'streptozocin', 'mesna', 'tropisetron', 'ramipril', 'benazepril', 'fluoxetine', 'fluorouracil', 'flunitrazepam', 'mitoxantrone', 'bupropion', 'oxytocin', 'phentolamine', 'tofacitinib', 'selegiline', 'ponatinib', 'darunavir', 'triamcinolone', 'zidovudine', 'fingolimod', 'mipomersen', 'leflunomide', 'riociguat', 'varenicline', 'hydromorphone', 'ibrutinib', 'paclitaxel', 'mesalazine', 'loxapine', 'losartan', 'tirofiban', 'hydrochlorothiazide', 'hydralazine', 'naltrexone', 'ivermectin', 'azacitidine', 'epirubicin', 'indapamide', 'nevirapine', 'pentostatin', 'simvastatin', 'foscarnet', 'aminolevulinic.acid', 'ranolazine', 'famotidine', 'empagliflozin', 'nifedipine', 'desflurane', 'vandetanib', 'cyclophosphamide', 'ganirelix', 'deferasirox', 'nizatidine', 'abiraterone', 'vortioxetine', 'indinavir', 'lisinopril', 'donepezil', 'doxazosin', 'doxepin', 'degarelix', 'terbutaline', 'terazosin', 'clindamycin', 'vilazodone', 'dalbavancin', 'linezolid', 'paliperidone', 'adapalene', 'dantrolene', 'sitaxentan', 'sorafenib', 'abarelix', 'telbivudine', 'lansoprazole', 'dabigatran.etexilate', 'dihydrocodeine', 'boceprevir', 'bimatoprost', 'fludarabine', 'dextromethorphan', 'clevidipine', 'eplerenone', 'bazedoxifene', 'maraviroc', 'apomorphine', 'piperacillin', 'pantoprazole', 'pamidronic.acid', 'atenolol', 'enzalutamide', 'doxorubicin', 'ingenol.mebutate', 'ibutilide', 'temoporfin', 'sertraline', 'etoposide', 'ticagrelor', 'atomoxetine', 'mometasone', 'dabrafenib', 'galantamine', 'rofecoxib', 'ropinirole', 'nimodipine', 'celecoxib', 'nisoldipine', 'levofloxacin', 'fusidic.acid', 'raltegravir', 'clonazepam', 'clonidine', 'clomipramine', 'eprosartan', 'fluconazole', 'amiodarone', 'nitisinone', 'technetium.(99mTc).tetrofosmin', 'triazolam', 'rivaroxaban', 'balsalazide', 'trabectedin', 'tamsulosin', 'methylnaltrexone.bromide', 'epoprostenol', 'ixabepilone', 'megestrol', 'flutamide', 'anidulafungin', 'itraconazole', 'adenosine', 'maprotiline', 'abacavir', 'roflumilast', 'ulipristal', 'alitretinoin', 'tretinoin', 'bendamustine', 'trametinib', 'testosterone', 'tetrabenazine', 'buspirone', 'bupivacaine', 'bumetanide', 'imiquimod', 'salmeterol', 'busulfan', 'gemcitabine', 'formoterol', 'levodopa', 'clobazam', 'orlistat', 'podophyllotoxin', 'gadobutrol', 'quinapril', 'clobetasone', 'dexrazoxane', 'fluocinonide', 'rasagiline', 'bortezomib', 'gonadorelin', 'erlotinib', 'cidofovir', 'lenalidomide', 'paracetamol', 'buprenorphine', 'minocycline', 'conjugated.estrogens', 'clozapine', 'stavudine', 'tasimelteon', 'thalidomide', 'morphine', 'naproxen', 'clofarabine', 'tranexamic.acid', 'rufinamide', 'tafluprost', 'cabazitaxel', 'aclidinium.bromide', 'ciclosporin']\n",
      "759\n"
     ]
    }
   ],
   "source": [
    "import pandas as pd\n",
    "\n",
    "cid_df = pd.read_csv('drug_cid.tsv', sep='\\t')\n",
    "cid_df\n",
    "cid = dict()\n",
    "for ind in cid_df.index:\n",
    "    cid[cid_df['GenericName'][ind]] = cid_df['CID'][ind]\n",
    "print(cid)\n",
    "drugs = list(cid.keys())\n",
    "print(drugs)\n",
    "print(len(drugs))"
   ]
  },
  {
   "cell_type": "markdown",
   "metadata": {},
   "source": [
    "### Export drug CIDs for conversion (only first time use)"
   ]
  },
  {
   "cell_type": "code",
   "execution_count": 5,
   "metadata": {},
   "outputs": [],
   "source": [
    "# Export the drug CIDs for conversion using this website: https://pubchem.ncbi.nlm.nih.gov/idexchange/\n",
    "# Note that the total is 759\n",
    "with open(\"drug_cid.txt\", \"w\") as f:\n",
    "    for drug in cid:\n",
    "        f.write(str(cid[drug])+\"\\n\")"
   ]
  },
  {
   "cell_type": "markdown",
   "metadata": {},
   "source": [
    "### Get drug SMILES dictionary"
   ]
  },
  {
   "cell_type": "code",
   "execution_count": 4,
   "metadata": {},
   "outputs": [
    {
     "name": "stdout",
     "output_type": "stream",
     "text": [
      "759\n",
      "<class 'dict'>\n"
     ]
    }
   ],
   "source": [
    "import pubchempy as pcp\n",
    "\n",
    "drug_smiles = dict()\n",
    "cid_smiles = dict()\n",
    "with open(\"cid_smiles.txt\", \"r\") as f:\n",
    "    with open(\"cid_smiles_final.txt\", \"w\") as o:\n",
    "        for line in f.readlines():\n",
    "            words = line.split()\n",
    "            words[0] = int(words[0])\n",
    "            if len(words) == 2:\n",
    "                cid_smiles[words[0]] = words[1]\n",
    "            else:\n",
    "                c = pcp.Compound.from_cid(words[0])\n",
    "                cid_smiles[words[0]] = c.isomeric_smiles\n",
    "            o.write(f\"{words[0]}\\t{cid_smiles[words[0]]}\\n\")\n",
    "for drug in drugs:\n",
    "    drug_smiles[drug] = cid_smiles[cid[drug]]\n",
    "print(len(drug_smiles))\n",
    "print(type(drug_smiles))"
   ]
  },
  {
   "cell_type": "markdown",
   "metadata": {},
   "source": [
    "## Get the protein info (IC50s)"
   ]
  },
  {
   "cell_type": "code",
   "execution_count": 2,
   "metadata": {},
   "outputs": [
    {
     "name": "stdout",
     "output_type": "stream",
     "text": [
      "15004\n"
     ]
    }
   ],
   "source": [
    "import json\n",
    "\n",
    "f = open(\"hpa_gene_seqs.json\")\n",
    "prot_seqs: dict = json.load(f)\n",
    "f.close()\n",
    "prots = list(prot_seqs.keys())\n",
    "print(len(prots))"
   ]
  },
  {
   "cell_type": "markdown",
   "metadata": {},
   "source": [
    "### Create the pairs for the prediction file"
   ]
  },
  {
   "cell_type": "code",
   "execution_count": 6,
   "metadata": {},
   "outputs": [
    {
     "data": {
      "text/html": [
       "<div>\n",
       "<style scoped>\n",
       "    .dataframe tbody tr th:only-of-type {\n",
       "        vertical-align: middle;\n",
       "    }\n",
       "\n",
       "    .dataframe tbody tr th {\n",
       "        vertical-align: top;\n",
       "    }\n",
       "\n",
       "    .dataframe thead th {\n",
       "        text-align: right;\n",
       "    }\n",
       "</style>\n",
       "<table border=\"1\" class=\"dataframe\">\n",
       "  <thead>\n",
       "    <tr style=\"text-align: right;\">\n",
       "      <th></th>\n",
       "      <th>proteinID</th>\n",
       "      <th>moleculeID</th>\n",
       "      <th>proteinSequence</th>\n",
       "      <th>moleculeSmiles</th>\n",
       "    </tr>\n",
       "  </thead>\n",
       "  <tbody>\n",
       "    <tr>\n",
       "      <th>0</th>\n",
       "      <td>TSPAN6</td>\n",
       "      <td>alfentanil</td>\n",
       "      <td>MASPSRRLQTKPVITCFKSVLLIYTFIFWITGVILLAVGIWGKVSL...</td>\n",
       "      <td>CCC(=O)N(C1=CC=CC=C1)C2(CCN(CC2)CCN3C(=O)N(N=N...</td>\n",
       "    </tr>\n",
       "    <tr>\n",
       "      <th>1</th>\n",
       "      <td>TNMD</td>\n",
       "      <td>alfentanil</td>\n",
       "      <td>MAKNPPENCEDCHILNAEAFKSKKICKSLKICGLVFGILALTLIVL...</td>\n",
       "      <td>CCC(=O)N(C1=CC=CC=C1)C2(CCN(CC2)CCN3C(=O)N(N=N...</td>\n",
       "    </tr>\n",
       "    <tr>\n",
       "      <th>2</th>\n",
       "      <td>DPM1</td>\n",
       "      <td>alfentanil</td>\n",
       "      <td>MASLEVSRSPRRSRRELEVRSPRQNKYSVLLPTYNERENLPLIVWL...</td>\n",
       "      <td>CCC(=O)N(C1=CC=CC=C1)C2(CCN(CC2)CCN3C(=O)N(N=N...</td>\n",
       "    </tr>\n",
       "    <tr>\n",
       "      <th>3</th>\n",
       "      <td>SCYL3</td>\n",
       "      <td>alfentanil</td>\n",
       "      <td>MGSENSALKSYTLREPPFTLPSGLAVYPAVLQDGKFASVFVYKREN...</td>\n",
       "      <td>CCC(=O)N(C1=CC=CC=C1)C2(CCN(CC2)CCN3C(=O)N(N=N...</td>\n",
       "    </tr>\n",
       "    <tr>\n",
       "      <th>4</th>\n",
       "      <td>C1orf112</td>\n",
       "      <td>alfentanil</td>\n",
       "      <td>MFLPHMNHLTLEQTFFSQVLPKTVKLFDDMMYELTSQARGLSSQNL...</td>\n",
       "      <td>CCC(=O)N(C1=CC=CC=C1)C2(CCN(CC2)CCN3C(=O)N(N=N...</td>\n",
       "    </tr>\n",
       "    <tr>\n",
       "      <th>...</th>\n",
       "      <td>...</td>\n",
       "      <td>...</td>\n",
       "      <td>...</td>\n",
       "      <td>...</td>\n",
       "    </tr>\n",
       "    <tr>\n",
       "      <th>11388031</th>\n",
       "      <td>PPIAL4D</td>\n",
       "      <td>ciclosporin</td>\n",
       "      <td>MVNSVVFFEITRDGKPLGRISIKLFADKIPKTAENFRALSTGEKGF...</td>\n",
       "      <td>CCC1C(=O)N(CC(=O)N(C(C(=O)NC(C(=O)N(C(C(=O)NC(...</td>\n",
       "    </tr>\n",
       "    <tr>\n",
       "      <th>11388032</th>\n",
       "      <td>CTAGE8</td>\n",
       "      <td>ciclosporin</td>\n",
       "      <td>MEEPGATPQPYLGLVLEELRRVVAALPESMRPDENPYGFPSELVVC...</td>\n",
       "      <td>CCC1C(=O)N(CC(=O)N(C(C(=O)NC(C(=O)N(C(C(=O)NC(...</td>\n",
       "    </tr>\n",
       "    <tr>\n",
       "      <th>11388033</th>\n",
       "      <td>ENSG00000290147</td>\n",
       "      <td>ciclosporin</td>\n",
       "      <td>MGNVMEGKSVEELSSTECHQWYKKFMTECPSGQLTLYEFRQFFGLK...</td>\n",
       "      <td>CCC1C(=O)N(CC(=O)N(C(C(=O)NC(C(=O)N(C(C(=O)NC(...</td>\n",
       "    </tr>\n",
       "    <tr>\n",
       "      <th>11388034</th>\n",
       "      <td>HOMEZ</td>\n",
       "      <td>ciclosporin</td>\n",
       "      <td>MVRGWEPPPGLDCAISEGHKSEGTMPPNKEASGLSSSPAGLICLPP...</td>\n",
       "      <td>CCC1C(=O)N(CC(=O)N(C(C(=O)NC(C(=O)N(C(C(=O)NC(...</td>\n",
       "    </tr>\n",
       "    <tr>\n",
       "      <th>11388035</th>\n",
       "      <td>SOD2</td>\n",
       "      <td>ciclosporin</td>\n",
       "      <td>MLSRAVCGTSRQLAPVLGYLGSRQKHSLPDLPYDYGALEPHINAQI...</td>\n",
       "      <td>CCC1C(=O)N(CC(=O)N(C(C(=O)NC(C(=O)N(C(C(=O)NC(...</td>\n",
       "    </tr>\n",
       "  </tbody>\n",
       "</table>\n",
       "<p>11388036 rows × 4 columns</p>\n",
       "</div>"
      ],
      "text/plain": [
       "                proteinID   moleculeID  \\\n",
       "0                  TSPAN6   alfentanil   \n",
       "1                    TNMD   alfentanil   \n",
       "2                    DPM1   alfentanil   \n",
       "3                   SCYL3   alfentanil   \n",
       "4                C1orf112   alfentanil   \n",
       "...                   ...          ...   \n",
       "11388031          PPIAL4D  ciclosporin   \n",
       "11388032           CTAGE8  ciclosporin   \n",
       "11388033  ENSG00000290147  ciclosporin   \n",
       "11388034            HOMEZ  ciclosporin   \n",
       "11388035             SOD2  ciclosporin   \n",
       "\n",
       "                                            proteinSequence  \\\n",
       "0         MASPSRRLQTKPVITCFKSVLLIYTFIFWITGVILLAVGIWGKVSL...   \n",
       "1         MAKNPPENCEDCHILNAEAFKSKKICKSLKICGLVFGILALTLIVL...   \n",
       "2         MASLEVSRSPRRSRRELEVRSPRQNKYSVLLPTYNERENLPLIVWL...   \n",
       "3         MGSENSALKSYTLREPPFTLPSGLAVYPAVLQDGKFASVFVYKREN...   \n",
       "4         MFLPHMNHLTLEQTFFSQVLPKTVKLFDDMMYELTSQARGLSSQNL...   \n",
       "...                                                     ...   \n",
       "11388031  MVNSVVFFEITRDGKPLGRISIKLFADKIPKTAENFRALSTGEKGF...   \n",
       "11388032  MEEPGATPQPYLGLVLEELRRVVAALPESMRPDENPYGFPSELVVC...   \n",
       "11388033  MGNVMEGKSVEELSSTECHQWYKKFMTECPSGQLTLYEFRQFFGLK...   \n",
       "11388034  MVRGWEPPPGLDCAISEGHKSEGTMPPNKEASGLSSSPAGLICLPP...   \n",
       "11388035  MLSRAVCGTSRQLAPVLGYLGSRQKHSLPDLPYDYGALEPHINAQI...   \n",
       "\n",
       "                                             moleculeSmiles  \n",
       "0         CCC(=O)N(C1=CC=CC=C1)C2(CCN(CC2)CCN3C(=O)N(N=N...  \n",
       "1         CCC(=O)N(C1=CC=CC=C1)C2(CCN(CC2)CCN3C(=O)N(N=N...  \n",
       "2         CCC(=O)N(C1=CC=CC=C1)C2(CCN(CC2)CCN3C(=O)N(N=N...  \n",
       "3         CCC(=O)N(C1=CC=CC=C1)C2(CCN(CC2)CCN3C(=O)N(N=N...  \n",
       "4         CCC(=O)N(C1=CC=CC=C1)C2(CCN(CC2)CCN3C(=O)N(N=N...  \n",
       "...                                                     ...  \n",
       "11388031  CCC1C(=O)N(CC(=O)N(C(C(=O)NC(C(=O)N(C(C(=O)NC(...  \n",
       "11388032  CCC1C(=O)N(CC(=O)N(C(C(=O)NC(C(=O)N(C(C(=O)NC(...  \n",
       "11388033  CCC1C(=O)N(CC(=O)N(C(C(=O)NC(C(=O)N(C(C(=O)NC(...  \n",
       "11388034  CCC1C(=O)N(CC(=O)N(C(C(=O)NC(C(=O)N(C(C(=O)NC(...  \n",
       "11388035  CCC1C(=O)N(CC(=O)N(C(C(=O)NC(C(=O)N(C(C(=O)NC(...  \n",
       "\n",
       "[11388036 rows x 4 columns]"
      ]
     },
     "execution_count": 6,
     "metadata": {},
     "output_type": "execute_result"
    }
   ],
   "source": [
    "import pandas as pd\n",
    "from tqdm import tqdm\n",
    "\n",
    "def create_query_df(drugs: list, prots: list, smiles: dict, seq: dict):\n",
    "    druglist = list()\n",
    "    protlist = list()\n",
    "    smileslist = list()\n",
    "    seqlist = list()\n",
    "    for drug in drugs:\n",
    "        for prot in prots:\n",
    "            druglist.append(drug)\n",
    "            protlist.append(prot)\n",
    "            smileslist.append(smiles[drug])\n",
    "            seqlist.append(seq[prot])\n",
    "    return pd.DataFrame.from_dict({\n",
    "        \"proteinID\": protlist,\n",
    "        \"moleculeID\": druglist,\n",
    "        \"proteinSequence\": seqlist,\n",
    "        \"moleculeSmiles\": smileslist,\n",
    "    })\n",
    "def to_tsv_tqdm(df: pd.DataFrame, filename: str):\n",
    "    with open(filename, \"w\") as f:\n",
    "        f.write(\"proteinID\\tmoleculeID\\tproteinSequence\\tmoleculeSmiles\\n\")\n",
    "        for ind in tqdm(df.index, total=df.shape[0], desc='Exporting df'):\n",
    "            prot = df['proteinID'][ind]\n",
    "            drug = df['moleculeID'][ind]\n",
    "            seq = df['proteinSequence'][ind]\n",
    "            smiles = df['moleculeSmiles'][ind]\n",
    "            f.write(f\"{prot}\\t{drug}\\t{seq}\\t{smiles}\\n\")\n",
    "\n",
    "\n",
    "query_df = create_query_df(drugs, prots, drug_smiles, prot_seqs)\n",
    "query_df \n",
    "# to_tsv_tqdm(query_df, 'query_df.tsv')"
   ]
  },
  {
   "cell_type": "markdown",
   "metadata": {},
   "source": [
    "### Use ConPLex to get IC50 values"
   ]
  },
  {
   "cell_type": "code",
   "execution_count": 7,
   "metadata": {},
   "outputs": [
    {
     "name": "stdout",
     "output_type": "stream",
     "text": [
      "Loading models\n"
     ]
    },
    {
     "name": "stderr",
     "output_type": "stream",
     "text": [
      "/opt/homebrew/lib/python3.11/site-packages/tqdm/auto.py:21: TqdmWarning: IProgress not found. Please update jupyter and ipywidgets. See https://ipywidgets.readthedocs.io/en/stable/user_install.html\n",
      "  from .autonotebook import tqdm as notebook_tqdm\n",
      "Morgan: 100%|██████████| 759/759 [00:00<00:00, 7246.03it/s]\n",
      "ProtBert: 100%|██████████| 14877/14877 [00:00<00:00, 16112.91it/s]\n",
      "Calculating feature pairs: 100%|██████████| 11388036/11388036 [02:28<00:00, 76912.01it/s]\n"
     ]
    },
    {
     "name": "stdout",
     "output_type": "stream",
     "text": [
      "Generating predictions...\n"
     ]
    },
    {
     "name": "stderr",
     "output_type": "stream",
     "text": [
      "Calculating predictions: 100%|██████████| 355877/355877 [07:52<00:00, 752.77it/s]\n"
     ]
    },
    {
     "name": "stdout",
     "output_type": "stream",
     "text": [
      "Printing ConPLex results to drug_prot_ic50_v2.tsv\n"
     ]
    }
   ],
   "source": [
    "# This code block uses ConPlex to predict binding affinity values\n",
    "from conplex_dti.model.architectures import SimpleCoembeddingNoSigmoid\n",
    "from conplex_dti.featurizer.protein import ProtBertFeaturizer\n",
    "from conplex_dti.featurizer.molecule import MorganFeaturizer\n",
    "import torch\n",
    "from torch.utils.data import DataLoader\n",
    "import numpy as np\n",
    "\n",
    "device = torch.device(\"cpu\")\n",
    "print(\"Loading models\")\n",
    "target_featurizer = ProtBertFeaturizer(\n",
    "    save_dir='.', per_tok=False\n",
    ").cpu()\n",
    "drug_featurizer = MorganFeaturizer(save_dir='.').cpu()\n",
    "\n",
    "drug_featurizer.preload(query_df[\"moleculeSmiles\"].unique())\n",
    "target_featurizer.preload(query_df[\"proteinSequence\"].unique())\n",
    "\n",
    "model = SimpleCoembeddingNoSigmoid(\n",
    "    drug_featurizer.shape, target_featurizer.shape, \n",
    "    latent_dimension=1024,\n",
    "    latent_activation=\"GELU\",\n",
    "    latent_distance=\"Cosine\",\n",
    "    classify=False\n",
    ")\n",
    "model_path = './models/Affinity82923_best_model.pt'\n",
    "model.load_state_dict(torch.load(model_path, map_location=device))\n",
    "model = model.eval()\n",
    "model = model.to(device)\n",
    "\n",
    "dt_feature_pairs = [\n",
    "        (drug_featurizer(r[\"moleculeSmiles\"]), target_featurizer(r[\"proteinSequence\"]))\n",
    "        for _, r in tqdm(query_df.iterrows(), desc=\"Calculating feature pairs\", total=query_df.shape[0])\n",
    "    ]\n",
    "dloader = DataLoader(dt_feature_pairs, batch_size=32, shuffle=False)\n",
    "\n",
    "print(f\"Generating predictions...\")\n",
    "preds = []\n",
    "with torch.set_grad_enabled(False):\n",
    "    for b in tqdm(dloader, desc=\"Calculating predictions\"):\n",
    "        preds.append(model(b[0], b[1]).detach().cpu().numpy())\n",
    "\n",
    "preds = np.concatenate(preds)\n",
    "\n",
    "result_df = pd.DataFrame(query_df[[\"moleculeID\", \"proteinID\"]])\n",
    "result_df[\"Prediction\"] = preds\n",
    "\n",
    "print(f\"Printing ConPLex results to drug_prot_ic50_v2.tsv\")\n",
    "result_df.to_csv('drug_prot_ic50_v2.tsv', sep=\"\\t\", index=False, header=False)"
   ]
  },
  {
   "cell_type": "markdown",
   "metadata": {},
   "source": [
    "## Get the frequency info and tissue expression levels"
   ]
  },
  {
   "cell_type": "code",
   "execution_count": 10,
   "metadata": {},
   "outputs": [
    {
     "name": "stderr",
     "output_type": "stream",
     "text": [
      "100%|██████████| 37441/37441 [00:00<00:00, 103470.50it/s]\n"
     ]
    }
   ],
   "source": [
    "import pandas as pd \n",
    "from tqdm import tqdm\n",
    "\n",
    "freq_df = pd.read_csv('all_grades.tsv', sep='\\t')\n",
    "reactions = freq_df['reaction'].unique().tolist()\n",
    "\n",
    "drug_reaction = dict()\n",
    "\n",
    "for drug in drugs:\n",
    "    drug_reaction[drug] = dict()\n",
    "    for reaction in reactions:\n",
    "        drug_reaction[drug][reaction] = -100\n",
    "\n",
    "for ind in tqdm(freq_df.index):\n",
    "    drug = freq_df['GenericName'][ind]\n",
    "    reaction = freq_df['reaction'][ind]\n",
    "    label = freq_df['label'][ind]\n",
    "    drug_reaction[drug][reaction] = int(label)\n",
    "\n",
    "import json\n",
    "\n",
    "with open(\"drug_reaction_freq.json\", \"w\") as f:\n",
    "    json.dump(drug_reaction, f)"
   ]
  },
  {
   "cell_type": "code",
   "execution_count": 4,
   "metadata": {},
   "outputs": [
    {
     "name": "stderr",
     "output_type": "stream",
     "text": [
      "Generating expression level info: 100%|██████████| 1197500/1197500 [01:19<00:00, 15097.83it/s]\n"
     ]
    }
   ],
   "source": [
    "import pandas as pd\n",
    "from tqdm import tqdm\n",
    "\n",
    "hpa_df = pd.read_csv('normal_tissue.tsv', sep='\\t')\n",
    "tissues = hpa_df['Tissue'].unique().tolist()\n",
    "prot_levels = dict()\n",
    "\n",
    "for prot in prots:\n",
    "    prot_levels[prot] = dict()\n",
    "    for tissue in tissues:\n",
    "        prot_levels[prot][tissue] = -100\n",
    "\n",
    "for ind in tqdm(hpa_df.index, desc=\"Generating expression level info\"):\n",
    "    prot = hpa_df['Gene name'][ind]\n",
    "    tissue = hpa_df['Tissue'][ind]\n",
    "    level = hpa_df['Level'][ind]\n",
    "    if level == 'High':\n",
    "        level = 3\n",
    "    elif level == 'Medium':\n",
    "        level = 2\n",
    "    elif level == 'Low':\n",
    "        level = 1\n",
    "    else:\n",
    "        level = 0\n",
    "    if prot in prots:\n",
    "        if prot_levels[prot][tissue] == -100:\n",
    "            prot_levels[prot][tissue] = level \n",
    "        else:\n",
    "            prot_levels[prot][tissue] += level\n",
    "\n",
    "import json\n",
    "\n",
    "with open(\"prot_tissue_levels.json\", \"w\") as f:\n",
    "    json.dump(prot_levels, f, indent=4)"
   ]
  },
  {
   "cell_type": "markdown",
   "metadata": {},
   "source": [
    "## Reformat the files\n",
    "- drug_smiles - dictionary mapping drug to its smiles\n",
    "\n",
    "- result_df - the dataframe with drug and target IC50\n",
    "\n",
    "- drug_reaction - dictionary mapping drug and reaction to frequency class (or -100 for na value)\n",
    "\n",
    "- prot_levels - dictionary mapping protein and tissue to expression level (3 2 1 0 for high medium low not detected or -100 for na value)"
   ]
  },
  {
   "cell_type": "markdown",
   "metadata": {},
   "source": [
    "### Drug, SMILES and IC50"
   ]
  },
  {
   "cell_type": "code",
   "execution_count": 10,
   "metadata": {},
   "outputs": [
    {
     "name": "stderr",
     "output_type": "stream",
     "text": [
      "Generate drug IC50 dict: 100%|██████████| 11388036/11388036 [01:01<00:00, 183822.74it/s]\n",
      "Generate file for drug, SMILES and IC50: 100%|██████████| 759/759 [00:06<00:00, 117.60it/s]\n"
     ]
    }
   ],
   "source": [
    "drug_smiles_ic50_dict = dict()\n",
    "\n",
    "drug_ic50s = dict()\n",
    "for drug in drugs:\n",
    "    drug_ic50s[drug] = dict()\n",
    "\n",
    "for ind in tqdm(result_df.index, desc=\"Generate drug IC50 dict\"):\n",
    "    drug = result_df['moleculeID'][ind]\n",
    "    prot = result_df['proteinID'][ind]\n",
    "    ic50 = result_df['Prediction'][ind]\n",
    "    drug_ic50s[drug][prot] = ic50\n",
    "    \n",
    "\n",
    "with open(\"drug_smiles_ic50.tsv\", \"w\") as f:\n",
    "    f.write(\"drug\\tSMILES\\t\")\n",
    "    for prot in prots:\n",
    "        f.write(f\"{prot}\\t\")\n",
    "    f.write(\"\\n\")\n",
    "    for drug in tqdm(drugs, desc=\"Generate file for drug, SMILES and IC50\"):\n",
    "        smiles = drug_smiles[drug]\n",
    "        ic50s = drug_ic50s[drug]\n",
    "        f.write(f\"{drug}\\t{smiles}\\t\")\n",
    "        for prot in prots:\n",
    "            f.write(f\"{ic50s[prot]}\\t\")\n",
    "        f.write(\"\\n\")\n"
   ]
  },
  {
   "cell_type": "markdown",
   "metadata": {},
   "source": [
    "### Drug and reaction frequency"
   ]
  },
  {
   "cell_type": "code",
   "execution_count": 11,
   "metadata": {},
   "outputs": [
    {
     "name": "stderr",
     "output_type": "stream",
     "text": [
      "Generate file for drug and reaction frequency: 100%|██████████| 759/759 [00:00<00:00, 5192.80it/s]\n"
     ]
    }
   ],
   "source": [
    "with open(\"drug_reaction_freq.tsv\", \"w\") as f:\n",
    "    f.write(\"drug\\t\")\n",
    "    for reaction in reactions:\n",
    "        f.write(f\"{reaction}\\t\")\n",
    "    f.write(\"\\n\")\n",
    "    for drug in tqdm(drugs, desc=\"Generate file for drug and reaction frequency\"):\n",
    "        f.write(f\"{drug}\\t\")\n",
    "        for reaction in reactions:\n",
    "            f.write(f\"{drug_reaction[drug][reaction]}\\t\")\n",
    "        f.write(\"\\n\")"
   ]
  },
  {
   "cell_type": "markdown",
   "metadata": {},
   "source": [
    "### Protein and tissue expression levels"
   ]
  },
  {
   "cell_type": "code",
   "execution_count": 12,
   "metadata": {},
   "outputs": [
    {
     "name": "stderr",
     "output_type": "stream",
     "text": [
      "Generate file for protein tissue expression levels: 100%|██████████| 15004/15004 [00:00<00:00, 78702.83it/s]\n"
     ]
    }
   ],
   "source": [
    "with open(\"prot_tissue_levels.tsv\", \"w\") as f:\n",
    "    f.write(\"protein\\t\")\n",
    "    for tissue in tissues:\n",
    "        f.write(f\"{tissue}\\t\")\n",
    "    f.write(\"\\n\")\n",
    "    for prot in tqdm(prots, desc=\"Generate file for protein tissue expression levels\"):\n",
    "        f.write(f\"{prot}\\t\")\n",
    "        for tissue in tissues:\n",
    "            f.write(f\"{prot_levels[prot][tissue]}\\t\")\n",
    "        f.write(\"\\n\")"
   ]
  }
 ],
 "metadata": {
  "kernelspec": {
   "display_name": "Python 3",
   "language": "python",
   "name": "python3"
  },
  "language_info": {
   "codemirror_mode": {
    "name": "ipython",
    "version": 3
   },
   "file_extension": ".py",
   "mimetype": "text/x-python",
   "name": "python",
   "nbconvert_exporter": "python",
   "pygments_lexer": "ipython3",
   "version": "3.11.5"
  },
  "orig_nbformat": 4
 },
 "nbformat": 4,
 "nbformat_minor": 2
}
